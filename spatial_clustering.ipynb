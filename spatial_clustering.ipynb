{
 "cells": [
  {
   "cell_type": "markdown",
   "id": "d986e794",
   "metadata": {},
   "source": [
    "# Spatial clustering analysis"
   ]
  },
  {
   "cell_type": "markdown",
   "id": "95d7ced7",
   "metadata": {},
   "source": [
    "## KDE all data\n",
    "Kernal density analysis with occupancy data from each time-stamp"
   ]
  },
  {
   "cell_type": "code",
   "execution_count": null,
   "id": "3d701338",
   "metadata": {},
   "outputs": [],
   "source": [
    "import numpy as np\n",
    "import geopandas as gpd\n",
    "from scipy.stats import gaussian_kde"
   ]
  },
  {
   "cell_type": "code",
   "execution_count": null,
   "id": "891d960d",
   "metadata": {},
   "outputs": [],
   "source": [
    "all_data=gpd.read_feather('./occupancy.feather')\n",
    "print('read')\n",
    "\n",
    "all_data['x'] = all_data['geometry'].x\n",
    "all_data['y'] = all_data['geometry'].y\n",
    "\n",
    "td = all_data[['x', 'y']].copy()\n",
    "\n",
    "kde = gaussian_kde(td.T)\n",
    "print('kde done')\n",
    "\n",
    "x_grid, y_grid = np.meshgrid(np.linspace(-3,32,35*4+1), np.linspace(-12,6,18*4+1))\n",
    "grid_points = np.vstack([x_grid.ravel(), y_grid.ravel()])\n",
    "density_values = kde(grid_points)\n",
    "\n",
    "np.save('OUTPUT.npy', density_values)"
   ]
  },
  {
   "cell_type": "markdown",
   "id": "6d14f66b",
   "metadata": {},
   "source": [
    "## Density-based clustering x-y-z Test\n",
    "DBSCAN sest on x,y and count data"
   ]
  },
  {
   "cell_type": "code",
   "execution_count": null,
   "id": "d9532c2c",
   "metadata": {},
   "outputs": [],
   "source": [
    "import pandas as pd\n",
    "from sklearn.cluster import DBSCAN\n",
    "from sklearn.preprocessing import StandardScaler\n",
    "from sklearn import metrics\n",
    "from sklearn.neighbors import NearestNeighbors\n",
    "import itertools\n",
    "from sklearn.metrics import silhouette_samples\n",
    "\n",
    "# Read occupancy position count file\n",
    "occupancy_position = pd.read_feather('./occupancy_position.feather')\n",
    "\n",
    "# Random sample occupancy position file\n",
    "ro = occupancy_position.sample(frac=1, random_state=42)\n",
    "\n",
    "# Reduce decimal points and add up counts for duplicate coordinates\n",
    "ro['x'] = ro['x'].round(2)\n",
    "ro['y'] = ro['y'].round(2)\n",
    "ro_1 = ro.groupby(['x', 'y'], as_index=False)['Count'].sum()\n",
    "\n",
    "# Select the features for clustering\n",
    "features = ro_1[['x', 'y', 'Count']].values"
   ]
  },
  {
   "cell_type": "code",
   "execution_count": null,
   "id": "62b5e573",
   "metadata": {},
   "outputs": [],
   "source": [
    "from sklearn.cluster import DBSCAN\n",
    "from sklearn.preprocessing import StandardScaler\n",
    "from sklearn import metrics\n",
    "from sklearn.neighbors import NearestNeighbors\n",
    "import itertools\n",
    "from sklearn.metrics import silhouette_samples\n",
    "\n",
    "# Read occupancy position count file\n",
    "occupancy_position = pd.read_feather('./occupancy_position.feather')\n",
    "\n",
    "# Random sample occupancy position file\n",
    "ro = occupancy_position.sample(frac=1, random_state=42)\n",
    "\n",
    "# Reduce decimal points and add up counts for duplicate coordinates\n",
    "ro['x'] = ro['x'].round(2)\n",
    "ro['y'] = ro['y'].round(2)\n",
    "ro_1 = ro.groupby(['x', 'y'], as_index=False)['Count'].sum()\n",
    "\n",
    "# Select the features for clustering\n",
    "features = ro_1[['x', 'y', 'Count']].values\n",
    "\n",
    "# finish test run the final plot\n",
    "dbscan = DBSCAN(eps=2, min_samples=200)\n",
    "labels = dbscan.fit_predict(features)\n",
    "\n",
    "# Get the number of clusters (excluding noise points)\n",
    "n_clusters = len(set(labels)) - (1 if -1 in labels else 0)\n",
    "n_noise = list(labels).count(-1)"
   ]
  },
  {
   "cell_type": "code",
   "execution_count": null,
   "id": "69f314fc",
   "metadata": {
    "scrolled": true
   },
   "outputs": [],
   "source": [
    "print('Number of clusters:', n_clusters)\n",
    "print('Number of noise points:', n_noise)"
   ]
  },
  {
   "cell_type": "code",
   "execution_count": null,
   "id": "6f670a9d",
   "metadata": {},
   "outputs": [],
   "source": [
    "# sampled sihouette\n",
    "# Define the number of samples to use for silhouette calculation\n",
    "# Randomly sample the data\n",
    "random_indices = np.random.choice(len(features), size=100000, replace=False)\n",
    "sampled_data = features[random_indices]\n",
    "sampled_labels = labels[random_indices]\n",
    "\n",
    "# Calculate silhouette samples for the sampled data\n",
    "silhouette_samples = silhouette_samples(sampled_data, sampled_labels)\n",
    "\n",
    "# Calculate the mean silhouette score\n",
    "silhouette_score = np.mean(silhouette_samples)\n",
    "\n",
    "silhouette_score"
   ]
  }
 ],
 "metadata": {
  "kernelspec": {
   "display_name": "Python 3 (ipykernel)",
   "language": "python",
   "name": "python3"
  },
  "language_info": {
   "codemirror_mode": {
    "name": "ipython",
    "version": 3
   },
   "file_extension": ".py",
   "mimetype": "text/x-python",
   "name": "python",
   "nbconvert_exporter": "python",
   "pygments_lexer": "ipython3",
   "version": "3.8.16"
  }
 },
 "nbformat": 4,
 "nbformat_minor": 5
}
